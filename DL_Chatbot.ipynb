{
  "nbformat": 4,
  "nbformat_minor": 0,
  "metadata": {
    "colab": {
      "private_outputs": true,
      "provenance": [],
      "collapsed_sections": []
    },
    "kernelspec": {
      "name": "python3",
      "display_name": "Python 3"
    },
    "language_info": {
      "name": "python"
    }
  },
  "cells": [
    {
      "cell_type": "markdown",
      "source": [
        "##Nama kelompok 2\n",
        "\n",
        "1.Enjel Devita Hutauruk\\\n",
        "2.Armando Mulana Putra\\\n",
        "3.Mila Delvana\\\n",
        "4.Henny Kristianing putri\\\n",
        "5.Yultriyen\\\n",
        "6.Dwi Khairani"
      ],
      "metadata": {
        "id": "E8U7or8th5ml"
      }
    },
    {
      "cell_type": "markdown",
      "source": [
        "# **Chatbot Untuk Sewa Mobil**\n",
        "\n",
        "<b>Chatbot</b> merupakan bagian dari Natural Language Processing yang digunakan untuk percakapan dengan pengguna melalui teks dan ucapan. Pada praktik hari ini kita akan membuat sebuah chat otomatis atau chatbot tentang program pemesanan sewa mobil"
      ],
      "metadata": {
        "id": "Ou5MMmzfRNv9"
      }
    },
    {
      "cell_type": "markdown",
      "source": [
        "# **Load Google Drive**"
      ],
      "metadata": {
        "id": "pieKAcQNDniR"
      }
    },
    {
      "cell_type": "code",
      "execution_count": null,
      "metadata": {
        "id": "6ZMu0fUzB237"
      },
      "outputs": [],
      "source": [
        "from google.colab import drive\n",
        "drive.mount('/content/drive')"
      ]
    },
    {
      "cell_type": "code",
      "source": [
        "!pip -q install SpeechRecognition"
      ],
      "metadata": {
        "id": "E7fv7xUWCs4Q"
      },
      "execution_count": null,
      "outputs": []
    },
    {
      "cell_type": "code",
      "source": [
        "!pip -q install gtts"
      ],
      "metadata": {
        "id": "yMMP5-liFFur"
      },
      "execution_count": null,
      "outputs": []
    },
    {
      "cell_type": "markdown",
      "source": [
        "# **Import Library**"
      ],
      "metadata": {
        "id": "TGl6pk_DFMtO"
      }
    },
    {
      "cell_type": "code",
      "source": [
        "# Import Libraries\n",
        "import json\n",
        "import nltk\n",
        "import time\n",
        "import random\n",
        "import string\n",
        "import pickle\n",
        "import numpy as np\n",
        "import pandas as pd\n",
        "from gtts import gTTS\n",
        "from io import BytesIO\n",
        "import tensorflow as tf\n",
        "import IPython.display as ipd\n",
        "import speech_recognition as sr \n",
        "import matplotlib.pyplot as plt\n",
        "from nltk.stem import WordNetLemmatizer\n",
        "from tensorflow.keras.models import Model\n",
        "from keras.utils.vis_utils import plot_model\n",
        "from sklearn.preprocessing import LabelEncoder\n",
        "from tensorflow.keras.preprocessing.text import Tokenizer\n",
        "from tensorflow.keras.layers import Input, Embedding, LSTM\n",
        "from tensorflow.keras.preprocessing.sequence import pad_sequences\n",
        "from tensorflow.keras.layers import Flatten, Dense, GlobalMaxPool1D"
      ],
      "metadata": {
        "id": "vfRv5iZgFOlC"
      },
      "execution_count": null,
      "outputs": []
    },
    {
      "cell_type": "code",
      "source": [
        "# Package sentence tokenizer\n",
        "nltk.download('punkt')\n",
        "# Package lemmatization\n",
        "nltk.download('wordnet')\n",
        "# Package multilingual wordnet data\n",
        "nltk.download('omw-1.4')"
      ],
      "metadata": {
        "id": "eWM45B8eUopG"
      },
      "execution_count": null,
      "outputs": []
    },
    {
      "cell_type": "markdown",
      "source": [
        "# **Load Dataset Json**\n",
        "\n",
        "\n"
      ],
      "metadata": {
        "id": "S8Vy3rdnYPH3"
      }
    },
    {
      "cell_type": "code",
      "source": [
        "# Importing the dataset\n",
        "with open('/content/drive/MyDrive/Proyek/Natural Processing/sewa.json') as content:\n",
        "  data1 = json.load(content)\n",
        "\n",
        "# Mendapatkan semua data ke dalam list\n",
        "tags = []\n",
        "inputs=[]\n",
        "responses={}\n",
        "words=[]\n",
        "classes=[]\n",
        "documents=[]\n",
        "ignore_words=['?', '!']\n",
        "\n",
        "\n",
        "for intent in data1['pengetahuan']:\n",
        "  responses[intent['tag']]=intent['responses']\n",
        "  for lines in intent['patterns']:\n",
        "    inputs.append(lines)\n",
        "    tags.append(intent['tag'])\n",
        "    for pattern in intent['patterns']:\n",
        "      w = nltk.word_tokenize(pattern)\n",
        "      words.extend(w)\n",
        "      documents.append((w, intent['tag']))\n",
        "      # add to our classes list\n",
        "      if intent['tag'] not in classes:\n",
        "        classes.append(intent['tag'])\n",
        "\n",
        "# Konversi data json ke dalam dataframe\n",
        "data = pd.DataFrame({\"patterns\":inputs, \"tags\":tags})"
      ],
      "metadata": {
        "id": "GKFVHri7IvU0"
      },
      "execution_count": null,
      "outputs": []
    },
    {
      "cell_type": "code",
      "source": [
        "# Cetak data keseluruhan\n",
        "# data"
      ],
      "metadata": {
        "id": "UaZNk86JVmOT"
      },
      "execution_count": null,
      "outputs": []
    },
    {
      "cell_type": "code",
      "source": [
        "# # Cetak data baris pertama sampai baris kelima\n"
      ],
      "metadata": {
        "id": "yE34L2RgYulH"
      },
      "execution_count": null,
      "outputs": []
    },
    {
      "cell_type": "code",
      "source": [
        "# Cetak data baris ke-70 sampai baris akhir\n"
      ],
      "metadata": {
        "id": "zt1BhnmfYxPN"
      },
      "execution_count": null,
      "outputs": []
    },
    {
      "cell_type": "markdown",
      "source": [
        "# **Preprocessing The Data**"
      ],
      "metadata": {
        "id": "y0QtVG2xZbt_"
      }
    },
    {
      "cell_type": "markdown",
      "source": [
        "## **Remove Punctuations**"
      ],
      "metadata": {
        "id": "yNT9hrf-ZoLs"
      }
    },
    {
      "cell_type": "code",
      "source": [
        "# Removing Punctuations (Menghilangkan Punktuasi)\n",
        "data['patterns']=data['patterns'].apply(lambda wrd:[ltrs.lower() for ltrs in wrd if ltrs not in string.punctuation])\n",
        "data['patterns']=data['patterns'].apply(lambda wrd: ''.join(wrd)) "
      ],
      "metadata": {
        "id": "ead13_GVZROc"
      },
      "execution_count": null,
      "outputs": []
    },
    {
      "cell_type": "markdown",
      "source": [
        "## **Lemmatization (Lematisasi)**"
      ],
      "metadata": {
        "id": "OGd-sQYVZwLy"
      }
    },
    {
      "cell_type": "code",
      "source": [
        "# Lematisasi atau Lemmatization\n",
        "lemmatizer = WordNetLemmatizer()\n",
        "words = [lemmatizer.lemmatize(w.lower()) for w in words if w not in ignore_words]\n",
        "words = sorted(list(set(words)))\n",
        "\n",
        "print (len(words), \"unique lemmatized words\", words)"
      ],
      "metadata": {
        "id": "_NSaa_lVbgxE"
      },
      "execution_count": null,
      "outputs": []
    },
    {
      "cell_type": "markdown",
      "source": [
        "### **Menyortir Data Kelas Tags**"
      ],
      "metadata": {
        "id": "3Q8sHqz0bwjk"
      }
    },
    {
      "cell_type": "code",
      "source": [
        "# sort classes\n",
        "classes = sorted(list(set(classes)))\n",
        "print (len(classes), \"classes\", classes)"
      ],
      "metadata": {
        "id": "vSzTwXSTb4i5"
      },
      "execution_count": null,
      "outputs": []
    },
    {
      "cell_type": "markdown",
      "source": [
        "### **Mencari Jumlah Keseluruhan Data Teks**"
      ],
      "metadata": {
        "id": "t41xF_Ndb6ez"
      }
    },
    {
      "cell_type": "code",
      "source": [
        "# documents = combination between patterns and intents\n",
        "print (len(documents), \"documents\")"
      ],
      "metadata": {
        "id": "9J3SY-7Eb66S"
      },
      "execution_count": null,
      "outputs": []
    },
    {
      "cell_type": "markdown",
      "source": [
        "## **Tokenization (Tokenisasi)**"
      ],
      "metadata": {
        "id": "WhQIfBmZZ3j8"
      }
    },
    {
      "cell_type": "code",
      "source": [
        "# Tokenize the data (Tokenisasi Data)\n",
        "tokenizer = Tokenizer(num_words=2000)\n",
        "tokenizer.fit_on_texts(data['patterns'])\n",
        "train = tokenizer.texts_to_sequences(data['patterns'])\n",
        "train"
      ],
      "metadata": {
        "id": "xI7ecHjCcBWv"
      },
      "execution_count": null,
      "outputs": []
    },
    {
      "cell_type": "markdown",
      "source": [
        "## **Padding**"
      ],
      "metadata": {
        "id": "Y5EKXE0IZ-RK"
      }
    },
    {
      "cell_type": "code",
      "source": [
        "# Apply padding \n",
        "x_train = pad_sequences(train)\n",
        "print(x_train) # Padding Sequences"
      ],
      "metadata": {
        "id": "js1KsqqlcTvJ"
      },
      "execution_count": null,
      "outputs": []
    },
    {
      "cell_type": "markdown",
      "source": [
        "## **Encoding Text**"
      ],
      "metadata": {
        "id": "6HSO-PyvaHSJ"
      }
    },
    {
      "cell_type": "code",
      "source": [
        "# Encoding the outputs \n",
        "le = LabelEncoder()\n",
        "y_train = le.fit_transform(data['tags'])\n",
        "print(y_train)"
      ],
      "metadata": {
        "id": "PmvvXOqNdQJF"
      },
      "execution_count": null,
      "outputs": []
    },
    {
      "cell_type": "markdown",
      "source": [
        "# **Input Length, Output Length and Vocabulary**"
      ],
      "metadata": {
        "id": "ckVXCm5rdyrw"
      }
    },
    {
      "cell_type": "code",
      "source": [
        "# input length\n",
        "input_shape = x_train.shape[1]\n",
        "print(input_shape)"
      ],
      "metadata": {
        "id": "PEp803J_d1Zt"
      },
      "execution_count": null,
      "outputs": []
    },
    {
      "cell_type": "code",
      "source": [
        "# define vocabulary\n",
        "vocabulary = len(tokenizer.word_index)\n",
        "print(\"number of unique words : \", vocabulary)\n",
        "\n",
        "# output length\n",
        "output_length = le.classes_.shape[0]\n",
        "print(\"output length: \", output_length)"
      ],
      "metadata": {
        "id": "GdKw0tCoeACb"
      },
      "execution_count": null,
      "outputs": []
    },
    {
      "cell_type": "markdown",
      "source": [
        "## **Save Model Words & Classes**"
      ],
      "metadata": {
        "id": "THZGu-iRaRU5"
      }
    },
    {
      "cell_type": "code",
      "source": [
        "pickle.dump(words, open('/content/drive/MyDrive/Proyek/Natural Processing/model/words.pkl','wb'))\n",
        "pickle.dump(classes, open('/content/drive/MyDrive/Proyek/Natural Processing/model/classes.pkl','wb'))"
      ],
      "metadata": {
        "id": "9QMiVYcJecj3"
      },
      "execution_count": null,
      "outputs": []
    },
    {
      "cell_type": "markdown",
      "source": [
        "## **Save Label Encoder & Tokenizer**"
      ],
      "metadata": {
        "id": "4G_SkVQxegIw"
      }
    },
    {
      "cell_type": "code",
      "source": [
        "pickle.dump(le, open('le.pkl','wb'))\n",
        "pickle.dump(tokenizer, open('tokenizers.pkl','wb'))"
      ],
      "metadata": {
        "id": "XQ2aawgJelMl"
      },
      "execution_count": null,
      "outputs": []
    },
    {
      "cell_type": "markdown",
      "source": [
        "# **Neural Network Model**"
      ],
      "metadata": {
        "id": "APUv-y_ratvr"
      }
    },
    {
      "cell_type": "code",
      "source": [
        "# Creating the model (Membuat Modeling)\n",
        "i = Input(shape=(input_shape,))\n",
        "x = Embedding(vocabulary+1,10)(i) # Layer Embedding\n",
        "x = LSTM(10, return_sequences=True)(x) # Layer Long Short Term Memory\n",
        "x = Flatten()(x) # Layer Flatten\n",
        "x = Dense(output_length, activation=\"softmax\")(x) # Layer Dense\n",
        "model  = Model(i,x)\n",
        "\n",
        "# Compiling the model (Kompilasi Model)\n",
        "model.compile(loss=\"sparse_categorical_crossentropy\", optimizer='adam', metrics=['accuracy'])"
      ],
      "metadata": {
        "id": "ZWBfM-9Ne5FC"
      },
      "execution_count": null,
      "outputs": []
    },
    {
      "cell_type": "code",
      "source": [
        "# Visualization Plot Architecture Model (Visualisasi Plot Arsitektur Model)\n",
        "#plot_model(model, to_file='model_plot.png', show_shapes=True, show_layer_names=True)"
      ],
      "metadata": {
        "id": "XXhj8lUOfF9W"
      },
      "execution_count": null,
      "outputs": []
    },
    {
      "cell_type": "code",
      "source": [
        "model.summary()"
      ],
      "metadata": {
        "id": "88W7kfYutM7S"
      },
      "execution_count": null,
      "outputs": []
    },
    {
      "cell_type": "code",
      "source": [
        "# Training the model (Latih model data sampai 400 kali)\n",
        "train = model.fit(x_train, y_train, epochs=400)"
      ],
      "metadata": {
        "id": "PpUcIIpEfXvq"
      },
      "execution_count": null,
      "outputs": []
    },
    {
      "cell_type": "markdown",
      "source": [
        "# **Model Analysis**"
      ],
      "metadata": {
        "id": "6XitcsLsayUA"
      }
    },
    {
      "cell_type": "code",
      "source": [
        "plt.figure(figsize=(14, 5))\n",
        "plt.subplot(1,2,1)\n",
        "plt.plot(train.history['accuracy'],label='Training Set Accuracy')\n",
        "plt.legend(loc='lower right')\n",
        "plt.title('Accuracy')\n",
        "\n",
        "plt.subplot(1, 2, 2)\n",
        "plt.plot(train.history['loss'],label='Training Set Loss')\n",
        "plt.legend(loc='upper right')\n",
        "plt.title('Loss')\n",
        "plt.show()"
      ],
      "metadata": {
        "id": "2UFmsQUpgcBR"
      },
      "execution_count": null,
      "outputs": []
    },
    {
      "cell_type": "markdown",
      "source": [
        "# **Testing Chatbot Dan Tambahkan Suara Pada Chatbot**"
      ],
      "metadata": {
        "id": "s2XNvrF7a5Bq"
      }
    },
    {
      "cell_type": "code",
      "source": [
        "# Membuat Input Chat\n",
        "while True:\n",
        "  texts_p = []\n",
        "  prediction_input = input('Kamu : ')\n",
        "  \n",
        "  # Menghapus punktuasi dan konversi ke huruf kecil\n",
        "  prediction_input = [letters.lower() for letters in prediction_input if letters not in string.punctuation]\n",
        "  prediction_input = ''.join(prediction_input)\n",
        "  texts_p.append(prediction_input)\n",
        "  # Tokenisasi dan Padding\n",
        "  prediction_input = tokenizer.texts_to_sequences(texts_p)\n",
        "  prediction_input = np.array(prediction_input).reshape(-1)\n",
        "  prediction_input = pad_sequences([prediction_input], input_shape)\n",
        "  # Mendapatkan hasil keluaran pada model \n",
        "  output = model.predict(prediction_input)\n",
        "  output = output.argmax()\n",
        "\n",
        "  # Menemukan respon sesuai data tag dan memainkan voice bot\n",
        "  response_tag = le.inverse_transform([output])[0]\n",
        "  print(\"🤖 Sewabot : \", random.choice(responses[response_tag]))\n",
        "  tts = gTTS(random.choice(responses[response_tag]), lang='id')\n",
        "  # Simpan model voice bot ke dalam Google Drive\n",
        "  tts.save('/content/drive/MyDrive/Proyek/Natural Processing/sewabot.wav')\n",
        "  time.sleep(0.08)\n",
        "  # Load model voice bot from Google Drive\n",
        "  ipd.display(ipd.Audio('/content/drive/MyDrive/Proyek/Natural Processing/sewabot.wav', autoplay=False))\n",
        "  print(\"=\"*60 + \"\\n\")\n",
        "  # Tambahkan respon 'goodbye' agar bot bisa berhenti\n",
        "  if response_tag == \"berpisah\":\n",
        "    break"
      ],
      "metadata": {
        "id": "-GWajt4uf0LH"
      },
      "execution_count": null,
      "outputs": []
    },
    {
      "cell_type": "markdown",
      "source": [
        "# **Save The Model**"
      ],
      "metadata": {
        "id": "kEJzItnXi70Z"
      }
    },
    {
      "cell_type": "code",
      "source": [
        "# Simpan model dalam bentuk format file .h5 atau .pkl (pickle)\n",
        "model.save('/content/drive/MyDrive/Proyek/Natural Processing/model/chat_model.h5')\n",
        "\n",
        "print('Model Created Successfully!')"
      ],
      "metadata": {
        "id": "Y74Y7oTKijAU"
      },
      "execution_count": null,
      "outputs": []
    }
  ]
}